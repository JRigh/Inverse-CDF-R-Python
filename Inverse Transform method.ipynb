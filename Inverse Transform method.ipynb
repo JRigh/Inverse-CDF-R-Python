{
 "cells": [
  {
   "cell_type": "markdown",
   "id": "47363ce7",
   "metadata": {},
   "source": [
    "# Inverse Transform method\n",
    "\n",
    "\n",
    "### Rationale\n",
    "\n",
    "Otherwise known as inverse CDF method. The continuous case:\n",
    "\n",
    "\n",
    "Suppose that we have a continuous random variable $X$ having Cummulative Density Function (CDF) $F_{X}$. Then, the random variable \n",
    "\n",
    "$$\n",
    "U = F_{X}(X) \n",
    "$$\n",
    "\n",
    "\n",
    "has a Uniform distribution $U \\sim U_{[0, 1]}$. So to generate a random variate $x$ from the distribution of $X$, we can use the following transformation\n",
    "\n",
    "$$\n",
    "F_{X}^{-1}(U) = x\n",
    "$$\n",
    "\n",
    "\n",
    "where $F_{X}^{-1}(.)$ is the inverse CDF or quantile function.\n",
    "\n",
    "\n",
    "### Weibull example\n",
    "\n",
    "We want to generate a sample of $10,000$ random realizations from a Weibull distribution $W(5, 2)$ using the Inverse CDF method.\n",
    "\n",
    "\n",
    "If $X \\sim\\mathcal{W}ei(\\alpha, \\beta)$ having PDF and CDF defined respectively as\n",
    "\n",
    "$$\n",
    "\\begin{align*}\n",
    "& \\textbf{PDF}   \\ \\ \\ \\ \\   f_{X}(x) = \\frac{  \\alpha   }{ \\beta }     \\bigg(  \\frac{ x  }{ \\beta }\\bigg)^{\\alpha - 1}      exp \\bigg( - \\frac{ x  }{ \\beta } \\bigg)^{\\alpha }  \\ \\one_{\\mathbb{R_{\n",
    "}^{+}}}(x)  \\\\\n",
    "& \\textbf{CDF}  \\ \\ \\ \\ \\ F_{X}(x) = 1 - exp \\bigg( - \\frac{x}{\\beta} \\bigg)^{\\alpha}  \\\\\n",
    "\\end{align*}\n",
    "$$\n",
    "\n",
    "\n",
    "### Weibull example solve\n",
    "\n",
    "Then by the Inverse CDF method, we can generate realizations of $X$ by equating $U = F_{X}(x)$ and solving for $x$. We have\n",
    "\n",
    "$$\n",
    "\\begin{align*}\n",
    " U & = 1 - exp \\bigg(-  \\frac{x}{2} \\bigg)^{5} \\\\\n",
    "1 -  U & =  exp \\bigg( - \\frac{x}{2} \\bigg)^{5} \\\\\n",
    " - ln (1 -  U ) &=  \\bigg( \\frac{x}{2} \\bigg)^{5} \\\\\n",
    "  \\big(- ln (1 -  U ) \\big)^{1/5 } & =  \\frac{x}{2}  \\\\\n",
    "2 \\big(- ln (1 -  U ) \\big)^{1/5} & =  x  \\\\\n",
    "\\end{align*}\n",
    "$$\n",
    "\n",
    "Next up: Python program."
   ]
  },
  {
   "cell_type": "code",
   "execution_count": 2,
   "id": "b427a00b",
   "metadata": {},
   "outputs": [
    {
     "data": {
      "text/html": [
       "<div>\n",
       "<style scoped>\n",
       "    .dataframe tbody tr th:only-of-type {\n",
       "        vertical-align: middle;\n",
       "    }\n",
       "\n",
       "    .dataframe tbody tr th {\n",
       "        vertical-align: top;\n",
       "    }\n",
       "\n",
       "    .dataframe thead th {\n",
       "        text-align: right;\n",
       "    }\n",
       "</style>\n",
       "<table border=\"1\" class=\"dataframe\">\n",
       "  <thead>\n",
       "    <tr style=\"text-align: right;\">\n",
       "      <th></th>\n",
       "      <th>data</th>\n",
       "    </tr>\n",
       "  </thead>\n",
       "  <tbody>\n",
       "    <tr>\n",
       "      <th>0</th>\n",
       "      <td>1.655497</td>\n",
       "    </tr>\n",
       "    <tr>\n",
       "      <th>1</th>\n",
       "      <td>2.343973</td>\n",
       "    </tr>\n",
       "    <tr>\n",
       "      <th>2</th>\n",
       "      <td>1.952544</td>\n",
       "    </tr>\n",
       "    <tr>\n",
       "      <th>3</th>\n",
       "      <td>1.340683</td>\n",
       "    </tr>\n",
       "    <tr>\n",
       "      <th>4</th>\n",
       "      <td>1.372833</td>\n",
       "    </tr>\n",
       "  </tbody>\n",
       "</table>\n",
       "</div>"
      ],
      "text/plain": [
       "       data\n",
       "0  1.655497\n",
       "1  2.343973\n",
       "2  1.952544\n",
       "3  1.340683\n",
       "4  1.372833"
      ]
     },
     "execution_count": 2,
     "metadata": {},
     "output_type": "execute_result"
    }
   ],
   "source": [
    "import numpy as np\n",
    "import pandas as pd\n",
    "import matplotlib.pyplot as plt\n",
    "import matplotlib\n",
    "import seaborn as sns\n",
    "\n",
    "#--------------------------------\n",
    "# example 1: Weibull realizations\n",
    "#--------------------------------\n",
    "\n",
    "# 1. Define Inverse CDF function\n",
    "def Inverse_CDF_Weibull(n, alpha, beta) :\n",
    "        u = np.random.uniform(low=0.0, high=1.0, size=n)          # generate uniform numbers\n",
    "        data = beta*((-np.log(1-u))**(1/alpha))                   # forumla derived\n",
    "        \n",
    "        return pd.DataFrame(data = data, columns = ['data'])      # return a data frame instead of an arry\n",
    "\n",
    "# 2. Generate realizations of the desired distribution\n",
    "np.random.seed(2023)\n",
    "dataset = Inverse_CDF_Weibull(n = 1000, alpha = 5, beta = 2)\n",
    "dataset.head()"
   ]
  },
  {
   "cell_type": "code",
   "execution_count": 3,
   "id": "f62c9952",
   "metadata": {},
   "outputs": [
    {
     "data": {
      "text/plain": [
       "[Text(0.5, 0, 'value')]"
      ]
     },
     "execution_count": 3,
     "metadata": {},
     "output_type": "execute_result"
    },
    {
     "data": {
      "image/png": "[encoded data removed]",
      "text/plain": [
       "<Figure size 640x480 with 1 Axes>"
      ]
     },
     "metadata": {},
     "output_type": "display_data"
    }
   ],
   "source": [
    "# 3. Plot with seabortn\n",
    "plot = sns.histplot(dataset, kde = True, bins = 20, facecolor=\"darkred\", edgecolor='black')\n",
    "plot.set(title='Histogram of Weibull(5,2) realizations')\n",
    "plot.set(xlabel=\"value\")"
   ]
  },
  {
   "cell_type": "markdown",
   "id": "a2052356",
   "metadata": {},
   "source": [
    "###  References\n",
    "\n",
    "\n",
    "Rizzo, M.L. (2019). Statistical Computing with R, Second Edition (2nd ed.). Chapman and Hall/CRC. \n",
    "https://doi.org/10.1201/9780429192760\n",
    "\n",
    "\n",
    "Python:\n",
    "{https://www.python.org/"
   ]
  },
  {
   "cell_type": "code",
   "execution_count": null,
   "id": "364ad456",
   "metadata": {},
   "outputs": [],
   "source": []
  },
  {
   "cell_type": "code",
   "execution_count": null,
   "id": "afb8c3f0",
   "metadata": {},
   "outputs": [],
   "source": []
  }
 ],
 "metadata": {
  "kernelspec": {
   "display_name": "Python 3 (ipykernel)",
   "language": "python",
   "name": "python3"
  },
  "language_info": {
   "codemirror_mode": {
    "name": "ipython",
    "version": 3
   },
   "file_extension": ".py",
   "mimetype": "text/x-python",
   "name": "python",
   "nbconvert_exporter": "python",
   "pygments_lexer": "ipython3",
   "version": "3.9.13"
  }
 },
 "nbformat": 4,
 "nbformat_minor": 5
}
